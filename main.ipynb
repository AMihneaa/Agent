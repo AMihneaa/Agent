{
 "cells": [
  {
   "cell_type": "code",
   "execution_count": 5,
   "id": "6e03e3e5",
   "metadata": {},
   "outputs": [
    {
     "name": "stdout",
     "output_type": "stream",
     "text": [
      "Looking in indexes: https://pypi.org/simple, https://pypi.ngc.nvidia.com\n",
      "Requirement already satisfied: requests in c:\\users\\a_ami\\appdata\\local\\programs\\python\\python311\\lib\\site-packages (2.32.3)\n",
      "Requirement already satisfied: charset-normalizer<4,>=2 in c:\\users\\a_ami\\appdata\\local\\programs\\python\\python311\\lib\\site-packages (from requests) (3.3.2)\n",
      "Requirement already satisfied: idna<4,>=2.5 in c:\\users\\a_ami\\appdata\\local\\programs\\python\\python311\\lib\\site-packages (from requests) (3.10)\n",
      "Requirement already satisfied: urllib3<3,>=1.21.1 in c:\\users\\a_ami\\appdata\\local\\programs\\python\\python311\\lib\\site-packages (from requests) (2.2.3)\n",
      "Requirement already satisfied: certifi>=2017.4.17 in c:\\users\\a_ami\\appdata\\local\\programs\\python\\python311\\lib\\site-packages (from requests) (2024.8.30)\n",
      "Note: you may need to restart the kernel to use updated packages.\n"
     ]
    }
   ],
   "source": [
    "%pip install requests"
   ]
  },
  {
   "cell_type": "code",
   "execution_count": 1,
   "id": "8c8cd31a",
   "metadata": {},
   "outputs": [],
   "source": [
    "import requests\n",
    "\n",
    "url = \"http://192.168.56.1:1234/v1/chat/completions\""
   ]
  },
  {
   "cell_type": "code",
   "execution_count": 2,
   "id": "68ceab7a",
   "metadata": {},
   "outputs": [],
   "source": [
    "\n",
    "payload = {\n",
    "    \"model\": \"lmstudio-community/DeepSeek-R1-Distill-Qwen-7B-GGUF\",\n",
    "    \"messages\": [\n",
    "        {\"role\": \"system\", \"content\": \"You are a friendly AI agent. \"},\n",
    "        {\"role\": \"system\", \"content\": \"\"\"\n",
    "                Response should be clear and precisely.\n",
    "                Don't forget to ask the user name first! If you don't know the the user name, ignore the prompt and ask for the name! \n",
    "               \"\"\"},\n",
    "    ],\n",
    "    \"temperature\": 0.7,\n",
    "    \"max_tokens\": 30000\n",
    "}\n",
    "\n"
   ]
  },
  {
   "cell_type": "code",
   "execution_count": 3,
   "id": "752d1bfe",
   "metadata": {},
   "outputs": [
    {
     "name": "stdout",
     "output_type": "stream",
     "text": [
      "Model: <think>\n",
      "Alright, I just received a message from someone who greeted me with \"Hello.\" Since it's my first interaction without knowing their username, I should follow the instructions to prompt them for their name. I need to make sure the response is clear and friendly, asking for their username so I can provide better assistance.\n",
      "</think>\n",
      "\n",
      "Hello! Could you please share your username so I can assist you better?\n",
      "Model: <think>\n",
      "Okay, let's see. The user just sent \"Mi agua Mihnea.\" Hmm, that looks like it might be Romanian or another language with a Spanish influence because of the structure.\n",
      "\n",
      "First, \"mi\" is like \"my,\" \"aguia\" sounds familiar—maybe \"agua\"? So it could be \"Mi agua Mihnea.\" That makes sense. They probably meant to say they areMihnea but misspelled \"agua.\"\n",
      "\n",
      "So their name might be Mihnea, right? I should ask them for the username so I can help properly.\n",
      "\n",
      "I need to acknowledge that maybe there was a typo and explain how to proceed once I have the username.\n",
      "</think>\n",
      "\n",
      "It seems like you might be trying to say something like \"My water is named Mihnea.\" Could you please share your username so I can assist you better?\n",
      "Model: <think>\n",
      "Alright, the user has been interacting with me in Romanian. They provided a greeting and then mentioned their name is \"Mihnea\". \n",
      "\n",
      "In the history, they tried to say something about their water but it wasn't clear.\n",
      "\n",
      "Now they're stating their name is Mihnea. I should respond politely and offer further assistance since I don't have any specific request from them yet.\n",
      "</think>\n",
      "\n",
      "Bine! Numele tau este Mihnea, și multumesc pentru a-ți spune! Dacă aveai un întrebare sau vrei să obțină informații pe un subiect specific, pot să-miândrează!\n"
     ]
    }
   ],
   "source": [
    "while True:\n",
    "    user_input = input(\"User: \")\n",
    "\n",
    "    if user_input.lower() in ['exit', 'quit']:\n",
    "        break\n",
    "\n",
    "\n",
    "    payload[\"messages\"].append({\"role\": \"user\", \"content\": user_input});\n",
    "\n",
    "    res = requests.post(url, json=payload)\n",
    "\n",
    "    reply = res.json()[\"choices\"][0][\"message\"][\"content\"]\n",
    "\n",
    "    print(\"Model:\", reply)\n",
    "    payload[\"messages\"].append({\"role\": \"assistant\", \"content\": reply})\n"
   ]
  }
 ],
 "metadata": {
  "kernelspec": {
   "display_name": "Python 3",
   "language": "python",
   "name": "python3"
  },
  "language_info": {
   "codemirror_mode": {
    "name": "ipython",
    "version": 3
   },
   "file_extension": ".py",
   "mimetype": "text/x-python",
   "name": "python",
   "nbconvert_exporter": "python",
   "pygments_lexer": "ipython3",
   "version": "3.11.0"
  }
 },
 "nbformat": 4,
 "nbformat_minor": 5
}
